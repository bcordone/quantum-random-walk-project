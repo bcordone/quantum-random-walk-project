{
 "cells": [
  {
   "cell_type": "code",
   "execution_count": null,
   "id": "303b468a-145a-458b-b340-494bab8792cb",
   "metadata": {},
   "outputs": [],
   "source": [
    "import numpy as np\n",
    "\n",
    "# Importing standard Qiskit libraries\n",
    "from qiskit import QuantumCircuit, ClassicalRegister, transpile, Aer, IBMQ, execute\n",
    "from qiskit.tools.jupyter import *\n",
    "from qiskit.visualization import *\n",
    "from ibm_quantum_widgets import *\n",
    "from qiskit.providers.aer import QasmSimulator\n",
    "\n",
    "# Loading your IBM Quantum account(s)\n",
    "provider = IBMQ.load_account()\n",
    "\n",
    "# additional packages needed\n",
    "import time\n",
    "\n",
    "# to run on IBM computer\n",
    "from qiskit.tools.monitor import job_monitor\n",
    "from qiskit.providers.ibmq import least_busy\n",
    "from qiskit.tools import backend_monitor\n",
    "\n",
    "# import matplot lib\n",
    "import matplotlib as plt"
   ]
  },
  {
   "cell_type": "markdown",
   "id": "6b5245b4-0b74-42fa-905d-7b24dab34255",
   "metadata": {},
   "source": [
    "## Circular Quantum Walks\n",
    "The circular quantum random walk operates similarly to the quantum random walk on a number line except that the \"end\" states are connected to one another. For example, for a 2 position qubit which has 4 states or nodes, the |00> and |11> states are connected to each other and movement is allowed across them. So if the walker starts in the |00> state, it can move to the |11> state or to the |01> state. Similarly, a walker starting in the |11> state can move to the |00> state or to the |10> state."
   ]
  },
  {
   "cell_type": "markdown",
   "id": "53fa9eb5-5ecd-40da-aafa-937a0e40cc7b",
   "metadata": {},
   "source": [
    "### Default Circular Quantum Walk\n",
    "The circuit build in the paper, which is refered to as the default circuit, only used a hadamard gate to split the coin at the beginning of the steps. This means that the walker either moves left or right and across multiple steps cannot switch directions left and right. The behavior of this circuit is shown below. "
   ]
  },
  {
   "cell_type": "code",
   "execution_count": null,
   "id": "f706f744-da3d-4f15-b62a-5ccf81af301d",
   "metadata": {},
   "outputs": [],
   "source": [
    "# one step of a quantum random walk on a circle 3 qubits (includes the qubit for the coin)\n",
    "qc = QuantumCircuit(3, 2)\n",
    "\n",
    "# we only want one coin operator\n",
    "# check my number line to see if I want to look through the hadamard gate again\n",
    "def circDefault(steps):\n",
    "    # the circuit in the paper has the h gate only once at the beginning\n",
    "    # only one decision to go left or right is made\n",
    "    qc.h(2)\n",
    "    for i in range(steps):\n",
    "        qc.cx(2, 1)\n",
    "        qc.ccx(2, 1, 0)\n",
    "        qc.x(2)\n",
    "        qc.cx(2, 1)\n",
    "        qc.x(1)\n",
    "        qc.ccx(2, 1, 0)\n",
    "        qc.x(1)\n",
    "        qc.x(2)\n",
    "    # reverse this order (be consistent and do this for the other project)\n",
    "    qc.measure([0, 1], [1, 0])\n",
    "\n",
    "circDefault(1)\n",
    "qc.draw()"
   ]
  },
  {
   "cell_type": "code",
   "execution_count": null,
   "id": "0e3dc242-0669-4f83-b83f-e93c7ffd577f",
   "metadata": {},
   "outputs": [],
   "source": [
    "# try it on the simulator\n",
    "simulator = Aer.get_backend('aer_simulator')\n",
    "\n",
    "qc = transpile(qc, simulator)\n",
    "\n",
    "# Run and get counts\n",
    "# can change the steps\n",
    "result = simulator.run(qc, shots = 1024).result()\n",
    "counts = result.get_counts(qc)\n",
    "\n",
    "plot_histogram(counts, title='Quantum Random Walk Counts')"
   ]
  },
  {
   "cell_type": "markdown",
   "id": "06012ee7-b720-46f2-b6a8-ed32052deda4",
   "metadata": {},
   "source": [
    "We start in the |00> state so we can move to the |11> state or to the |01> state with equal probability."
   ]
  },
  {
   "cell_type": "code",
   "execution_count": null,
   "id": "7930556f-7669-4490-916c-ea4c0940e2d0",
   "metadata": {},
   "outputs": [],
   "source": [
    "# try 2 steps\n",
    "# only H gate at the beginning\n",
    "qc = QuantumCircuit(3, 2)\n",
    "circ(2)\n",
    "qc.draw()"
   ]
  },
  {
   "cell_type": "code",
   "execution_count": null,
   "id": "23c387d6-003a-47be-baff-961470ff3b64",
   "metadata": {},
   "outputs": [],
   "source": [
    "simulator = Aer.get_backend('aer_simulator')\n",
    "\n",
    "qc = transpile(qc, simulator)\n",
    "\n",
    "result = simulator.run(qc, shots = 1024).result()\n",
    "counts = result.get_counts(qc)\n",
    "\n",
    "plot_histogram(counts, title='Quantum Random Walk Counts')"
   ]
  },
  {
   "cell_type": "markdown",
   "id": "0f5d1c08-9042-46dc-b14a-71aa8af6edef",
   "metadata": {},
   "source": [
    "Using the default circuit, only 1 state is allowed. Since there is only 1 coin operation, the walker \"commits\" to going \"right\" or \"left\" and can't change directions once it's taken that initial step. Quantum mechanically this means that the coin is created through a superposition and each element of the superposition begins its journey through the increamentors and decreamentors which send the walker \"right\" or \"left\" through the use of the CNOT gates. The walker will go \"right\" and \"left\" but each superposition can then only go in that one direction and it can't switch directions. This is why the only allowed state is the |10> state because starting from |00> and moving 2 steps \"right\" or \"left\" both end up in the |10> state. "
   ]
  },
  {
   "cell_type": "code",
   "execution_count": null,
   "id": "ba9aa9b7-786d-4ab6-90ca-9606cdfed615",
   "metadata": {},
   "outputs": [],
   "source": [
    "# try 3 steps\n",
    "qc = QuantumCircuit(3, 2)\n",
    "circ(3)"
   ]
  },
  {
   "cell_type": "code",
   "execution_count": null,
   "id": "302cd5db-76b2-49de-98bb-093bbd98248b",
   "metadata": {},
   "outputs": [],
   "source": [
    "# this is wrong!\n",
    "qc = transpile(qc, simulator)\n",
    "\n",
    "# Run and get counts\n",
    "# can change the steps\n",
    "result = simulator.run(qc, shots = 1024).result()\n",
    "counts = result.get_counts(qc)\n",
    "\n",
    "plot_histogram(counts, title='Quantum Random Walk Counts')"
   ]
  },
  {
   "cell_type": "markdown",
   "id": "48368ff3-3b0d-4560-ab13-0011d0a395e4",
   "metadata": {},
   "source": [
    "Now that 3 steps are taken, there are again 2 allowed states as the qubit can travel from |00> 3 steps \"left\" to |01> or 3 steps right to |11>."
   ]
  },
  {
   "cell_type": "code",
   "execution_count": null,
   "id": "b8e557d4-10b8-440a-b821-f572c2121db3",
   "metadata": {},
   "outputs": [],
   "source": [
    "# try 4 steps\n",
    "qc = QuantumCircuit(3, 2)\n",
    "circ(4)"
   ]
  },
  {
   "cell_type": "code",
   "execution_count": null,
   "id": "e0c39885-f121-4b9d-b51e-d7ba9e2dc346",
   "metadata": {},
   "outputs": [],
   "source": [
    "qc = transpile(qc, simulator)\n",
    "\n",
    "# Run and get counts\n",
    "# can change the steps\n",
    "result = simulator.run(qc, shots = 1024).result()\n",
    "counts = result.get_counts(qc)\n",
    "\n",
    "plot_histogram(counts, title='Quantum Random Walk Counts')"
   ]
  },
  {
   "cell_type": "markdown",
   "id": "5b59b32f-cc95-4c9e-83aa-2fa786066b39",
   "metadata": {},
   "source": [
    "Again 4 steps only yields one allowed state which is the inital state |00> because 4 steps to the \"right\" or \"left\" both land on |00>. Any steps below 4 which resets to the initial state should follow the same pattern as the states descriped above."
   ]
  },
  {
   "cell_type": "markdown",
   "id": "a9ebe823-92c4-4279-857e-e9899c70dbbd",
   "metadata": {},
   "source": [
    "### Moving left and right at each step attempt 1\n",
    "This is the first attempt in creating a circuit which allows the walker to change directions after its initial step. The circuit below is alterned from the default circuit so that at each step taken, the circuit is then able to travel \"left\" or \"right\" after each step it takes. This creates different allowed states then the default circuit above. The first attempt, tries to achieve this through adding a H gate to each iteration. The attempt fails at 3 steps."
   ]
  },
  {
   "cell_type": "code",
   "execution_count": null,
   "id": "b90d27cd-ea44-4f5b-9c77-8c613695df2e",
   "metadata": {},
   "outputs": [],
   "source": [
    "# one step of a quantum random walk on a circle 3 qubits (includes the qubit for the coin)\n",
    "qc = QuantumCircuit(3, 2)\n",
    "\n",
    "def circ(steps):\n",
    "    for i in range(steps):\n",
    "        # test the behavior of the circuit when the H gate is in every step.\n",
    "        qc.h(2)\n",
    "        qc.cx(2, 1)\n",
    "        qc.ccx(2, 1, 0)\n",
    "        qc.x(2)\n",
    "        qc.cx(2, 1)\n",
    "        qc.x(1)\n",
    "        qc.ccx(2, 1, 0)\n",
    "        qc.x(1)\n",
    "        qc.x(2)\n",
    "    # reverse this order (be consistent and do this for the other project)\n",
    "    qc.measure([0, 1], [1, 0])\n",
    "\n",
    "circ(1)\n",
    "qc.draw()"
   ]
  },
  {
   "cell_type": "code",
   "execution_count": null,
   "id": "8d55ceb3-393c-4802-b755-7225da3084ae",
   "metadata": {},
   "outputs": [],
   "source": [
    "# try it on the simulator\n",
    "simulator = Aer.get_backend('aer_simulator')\n",
    "\n",
    "qc = transpile(qc, simulator)\n",
    "\n",
    "# Run and get counts\n",
    "# can change the steps\n",
    "result = simulator.run(qc, shots = 1024).result()\n",
    "counts = result.get_counts(qc)\n",
    "\n",
    "plot_histogram(counts, title='Quantum Random Walk Counts')"
   ]
  },
  {
   "cell_type": "markdown",
   "id": "8d805cf6-45f4-4364-8850-fbeb77b4ec5a",
   "metadata": {},
   "source": [
    "We get the same result as before for the 1 step because the choice is still only to travel \"left\" or \"right\" and no \"additional\" coins are added."
   ]
  },
  {
   "cell_type": "code",
   "execution_count": null,
   "id": "47b3a3ca-2e6a-4ede-8c12-195bcbf39d4b",
   "metadata": {},
   "outputs": [],
   "source": [
    "# now look at the 2 step circuit\n",
    "qc = QuantumCircuit(3, 2)\n",
    "circ(2)"
   ]
  },
  {
   "cell_type": "code",
   "execution_count": null,
   "id": "bbe655e8-d16e-4253-b1dd-6ec590f0ed98",
   "metadata": {},
   "outputs": [],
   "source": [
    "# try it on the simulator\n",
    "simulator = Aer.get_backend('aer_simulator')\n",
    "\n",
    "qc = transpile(qc, simulator)\n",
    "\n",
    "# Run and get counts\n",
    "# can change the steps\n",
    "result = simulator.run(qc, shots = 1024).result()\n",
    "counts = result.get_counts(qc)\n",
    "\n",
    "plot_histogram(counts, title='Quantum Random Walk Counts')"
   ]
  },
  {
   "cell_type": "markdown",
   "id": "bf0ecc4d-460d-4532-8b01-5e01a5cf870b",
   "metadata": {},
   "source": [
    "Now the circuit can travel back to the initial state and there are two allowed states (|00> and |10>) instead of only 1 allowed state (|10>). This method appears to \"fix\" the 2 step case."
   ]
  },
  {
   "cell_type": "code",
   "execution_count": null,
   "id": "4f499d31-3fd5-423f-8705-bfa8086c0494",
   "metadata": {},
   "outputs": [],
   "source": [
    "# try 3 steps\n",
    "qc = QuantumCircuit(3, 2)\n",
    "circ(3)"
   ]
  },
  {
   "cell_type": "code",
   "execution_count": null,
   "id": "8f9a182a-4bc6-4314-b20a-7e75b82c957f",
   "metadata": {},
   "outputs": [],
   "source": [
    "# try it on the simulator\n",
    "simulator = Aer.get_backend('aer_simulator')\n",
    "\n",
    "qc = transpile(qc, simulator)\n",
    "\n",
    "# Run and get counts\n",
    "# can change the steps\n",
    "result = simulator.run(qc, shots = 1024).result()\n",
    "counts = result.get_counts(qc)\n",
    "\n",
    "plot_histogram(counts, title='Quantum Random Walk Counts')"
   ]
  },
  {
   "cell_type": "markdown",
   "id": "5d8e6951-2ee2-4607-8de4-8220e8e87c44",
   "metadata": {},
   "source": [
    "After 3 steps the circuit starts to break down and only 1 state is allowed (|01>). The circuit is not allowed to travel 3 qubits in a row it seems. The third H gate forces the particule to change direction after every step which is not the desired outcome."
   ]
  },
  {
   "cell_type": "code",
   "execution_count": 181,
   "id": "a391a714-15e5-4365-9e68-e6bf48d5f1fd",
   "metadata": {},
   "outputs": [],
   "source": [
    "# examine the behavior at 4 steps\n",
    "qc = QuantumCircuit(3, 2)\n",
    "circ(4)"
   ]
  },
  {
   "cell_type": "code",
   "execution_count": 182,
   "id": "c6803300-4fad-4184-8f3e-829545f84c95",
   "metadata": {},
   "outputs": [
    {
     "data": {
      "image/png": "[encoded data removed]",
      "text/plain": [
       "<Figure size 504x360 with 1 Axes>"
      ]
     },
     "execution_count": 182,
     "metadata": {},
     "output_type": "execute_result"
    }
   ],
   "source": [
    "# try it on the simulator\n",
    "simulator = Aer.get_backend('aer_simulator')\n",
    "\n",
    "qc = transpile(qc, simulator)\n",
    "\n",
    "# Run and get counts\n",
    "# can change the steps\n",
    "result = simulator.run(qc, shots = 1024).result()\n",
    "counts = result.get_counts(qc)\n",
    "\n",
    "plot_histogram(counts, title='Quantum Random Walk Counts')"
   ]
  },
  {
   "cell_type": "markdown",
   "id": "59bb02ef-81d3-4ec2-a618-67629421fb1c",
   "metadata": {},
   "source": [
    "The only allowed state is the |10> state. It appears the circuit forces the walker to change direction after 2 steps are taken."
   ]
  },
  {
   "cell_type": "code",
   "execution_count": 183,
   "id": "288417ca-f7f0-4b29-b723-e08336a9f1b9",
   "metadata": {},
   "outputs": [],
   "source": [
    "qc = QuantumCircuit(3, 2)\n",
    "circ(5)"
   ]
  },
  {
   "cell_type": "code",
   "execution_count": 184,
   "id": "06237720-268d-43fa-84f9-2b12f3ce8a1b",
   "metadata": {},
   "outputs": [
    {
     "data": {
      "image/png": "[encoded data removed]",
      "text/plain": [
       "<Figure size 504x360 with 1 Axes>"
      ]
     },
     "execution_count": 184,
     "metadata": {},
     "output_type": "execute_result"
    }
   ],
   "source": [
    "# try it on the simulator\n",
    "simulator = Aer.get_backend('aer_simulator')\n",
    "\n",
    "qc = transpile(qc, simulator)\n",
    "\n",
    "# Run and get counts\n",
    "# can change the steps\n",
    "result = simulator.run(qc, shots = 1024).result()\n",
    "counts = result.get_counts(qc)\n",
    "\n",
    "plot_histogram(counts, title='Quantum Random Walk Counts')"
   ]
  },
  {
   "cell_type": "markdown",
   "id": "bb82613d-a7cc-4ca3-8cc6-621f4a0791c7",
   "metadata": {},
   "source": [
    "5 steps has the same distribution as 1 step. The distribution step pattern resets every 4 steps. This circuit forces the walker to change directions for the 3 step case. For the 2 step case which behaves as desired, the walker is forced to travel in the same direction if the first 2 steps went in opposite directions and if the first two steps went in the same direction it forces the walker to change directions."
   ]
  },
  {
   "cell_type": "markdown",
   "id": "b0f54d80-8d74-4bcd-bb03-d043f91494e4",
   "metadata": {},
   "source": [
    "### Moving left and right at each step attempt 2\n",
    "The second attempt tests the circuit for which the first 2 steps taken have a H gate and the remaining steps do not have H gates. The circuit works as desired: after each step the walker can flip the coin again and move \"right\" or \"left\"."
   ]
  },
  {
   "cell_type": "code",
   "execution_count": null,
   "id": "1284e219-3a71-48f2-ba37-995a3c92f9a6",
   "metadata": {},
   "outputs": [],
   "source": [
    "qc = QuantumCircuit(3, 2)\n",
    "\n",
    "# this function has H gates present in the first two steps always and then removes H gates\n",
    "# for all remaining steps\n",
    "# the behavior is what we would expect for this type of circuit\n",
    "def circ2(steps):\n",
    "    # just the base circuit for 1 step\n",
    "    if steps == 1:\n",
    "        qc.h(2)\n",
    "        qc.cx(2, 1)\n",
    "        qc.ccx(2, 1, 0)\n",
    "        qc.x(2)\n",
    "        qc.cx(2, 1)\n",
    "        qc.x(1)\n",
    "        qc.ccx(2, 1, 0)\n",
    "        qc.x(1)\n",
    "        qc.x(2)\n",
    "        \n",
    "    if steps > 1:\n",
    "        # first iteration\n",
    "        qc.h(2)\n",
    "        qc.cx(2, 1)\n",
    "        qc.ccx(2, 1, 0)\n",
    "        qc.x(2)\n",
    "        qc.cx(2, 1)\n",
    "        qc.x(1)\n",
    "        qc.ccx(2, 1, 0)\n",
    "        qc.x(1)\n",
    "        qc.x(2)\n",
    "        \n",
    "        # second iteration has a hadamard gate\n",
    "        qc.h(2)\n",
    "        qc.cx(2, 1)\n",
    "        qc.ccx(2, 1, 0)\n",
    "        qc.x(2)\n",
    "        qc.cx(2, 1)\n",
    "        qc.x(1)\n",
    "        qc.ccx(2, 1, 0)\n",
    "        qc.x(1)\n",
    "        qc.x(2)\n",
    "        \n",
    "        for i in range(steps-2):\n",
    "            qc.cx(2, 1)\n",
    "            qc.ccx(2, 1, 0)\n",
    "            qc.x(2)\n",
    "            qc.cx(2, 1)\n",
    "            qc.x(1)\n",
    "            qc.ccx(2, 1, 0)\n",
    "            qc.x(1)\n",
    "            qc.x(2)\n",
    "    \n",
    "    # measure at the end always\n",
    "    qc.measure([0, 1], [1, 0])\n",
    "    \n",
    "# example of this working as intended\n",
    "circ2(3)\n",
    "\n",
    "qc.draw()"
   ]
  },
  {
   "cell_type": "markdown",
   "id": "c5dad7ee-9cae-4af5-b551-7a304ca6182a",
   "metadata": {},
   "source": [
    "The 1 step circuit is the same for all the variations. The 2 steps circuit is the same as in attempt 1 as the circuit setup did not change. Steps 3, 4, and 5 are shown below."
   ]
  },
  {
   "cell_type": "code",
   "execution_count": null,
   "id": "b0d991b3-f284-4708-a398-34c02df0a82a",
   "metadata": {},
   "outputs": [],
   "source": [
    "qc = QuantumCircuit(3, 2)\n",
    "circ2(3)"
   ]
  },
  {
   "cell_type": "code",
   "execution_count": null,
   "id": "cef1e914-5275-41e9-a766-5b5bcee4311a",
   "metadata": {},
   "outputs": [],
   "source": [
    "# try it on the simulator\n",
    "simulator = Aer.get_backend('aer_simulator')\n",
    "\n",
    "qc = transpile(qc, simulator)\n",
    "\n",
    "# Run and get counts\n",
    "# can change the steps\n",
    "result = simulator.run(qc, shots = 1024).result()\n",
    "counts = result.get_counts(qc)\n",
    "\n",
    "plot_histogram(counts, title='Quantum Random Walk Counts')"
   ]
  },
  {
   "cell_type": "markdown",
   "id": "eaca6964-ab56-4785-96e3-0cfb93c2fd65",
   "metadata": {},
   "source": [
    "The allowed states are |01> and |11>. These are the same as in the default circuit: when the walker is allowed to change directions it can still only end up in the |01> and |11> states."
   ]
  },
  {
   "cell_type": "code",
   "execution_count": null,
   "id": "0dc36b70-291d-4436-a193-1fb9b9f0b5d9",
   "metadata": {},
   "outputs": [],
   "source": [
    "qc = QuantumCircuit(3, 2)\n",
    "circ2(4)"
   ]
  },
  {
   "cell_type": "code",
   "execution_count": null,
   "id": "6fa5c189-9486-457f-a6fb-79dc3066e3e1",
   "metadata": {},
   "outputs": [],
   "source": [
    "# try it on the simulator\n",
    "simulator = Aer.get_backend('aer_simulator')\n",
    "\n",
    "qc = transpile(qc, simulator)\n",
    "\n",
    "# Run and get counts\n",
    "# can change the steps\n",
    "result = simulator.run(qc, shots = 1024).result()\n",
    "counts = result.get_counts(qc)\n",
    "\n",
    "plot_histogram(counts, title='Quantum Random Walk Counts')"
   ]
  },
  {
   "cell_type": "markdown",
   "id": "7d57410f-65fb-401e-8a34-9b0b2cac5389",
   "metadata": {},
   "source": [
    "Now the allowed states are |00> and |10> as opposed to the only allowed state being the initial state |00> as is the case for the default QRW. After each step, the walker is allowed to travel backwards. Each instance of the walker not taking all its steps in the same direction results in the state |10>."
   ]
  },
  {
   "cell_type": "code",
   "execution_count": null,
   "id": "2e3e841c-9272-4c36-be1b-5310dfb56ca3",
   "metadata": {},
   "outputs": [],
   "source": [
    "qc = QuantumCircuit(3, 2)\n",
    "circ2(5)"
   ]
  },
  {
   "cell_type": "code",
   "execution_count": null,
   "id": "529ec348-cebc-4c89-a15a-5f3839cb0633",
   "metadata": {},
   "outputs": [],
   "source": [
    "# try it on the simulator\n",
    "simulator = Aer.get_backend('aer_simulator')\n",
    "\n",
    "qc = transpile(qc, simulator)\n",
    "\n",
    "# Run and get counts\n",
    "# can change the steps\n",
    "result = simulator.run(qc, shots = 1024).result()\n",
    "counts = result.get_counts(qc)\n",
    "\n",
    "plot_histogram(counts, title='Quantum Random Walk Counts')"
   ]
  },
  {
   "cell_type": "markdown",
   "id": "4509ac3a-5d9f-4623-ba66-d9edf0b8b99a",
   "metadata": {},
   "source": [
    "At 5 steps the process repeats itself and the resulting allowed states are the same as for 1 step."
   ]
  },
  {
   "cell_type": "markdown",
   "id": "43b947b6-8b58-4359-aca0-c9f37aecbefa",
   "metadata": {},
   "source": [
    "NEXT STEPS\n",
    "Implement on IBM computer\n",
    "Look at different IC\n",
    "Try a weighted coin (Instead of superposition with H gate use something that weights it in one direction)\n",
    "Try a 3 qubit circular position (could compare this with the circuit from before)"
   ]
  }
 ],
 "metadata": {
  "kernelspec": {
   "display_name": "Qiskit v0.35.0 (ipykernel)",
   "language": "python",
   "name": "python3"
  },
  "language_info": {
   "codemirror_mode": {
    "name": "ipython",
    "version": 3
   },
   "file_extension": ".py",
   "mimetype": "text/x-python",
   "name": "python",
   "nbconvert_exporter": "python",
   "pygments_lexer": "ipython3",
   "version": "3.8.13"
  },
  "widgets": {
   "application/vnd.jupyter.widget-state+json": {
    "state": {
     "008ac13b654a40b9a468d33e9effb17f": {
      "model_module": "@jupyter-widgets/controls",
      "model_module_version": "1.5.0",
      "model_name": "HTMLModel",
      "state": {
       "layout": "IPY_MODEL_ffd825a2aaa5400995feeddd5ce36c58",
       "style": "IPY_MODEL_32a327bf490c4512962719d3216718db",
       "value": "<h5>Backend</h5>"
      }
     },
     "0eddd48dd19d468c941f359e86af46b5": {
      "model_module": "@jupyter-widgets/controls",
      "model_module_version": "1.5.0",
      "model_name": "ButtonModel",
      "state": {
       "button_style": "primary",
       "description": "Clear",
       "layout": "IPY_MODEL_ea1aa2c09e2e4ffc9ca1627dfdacc25a",
       "style": "IPY_MODEL_d88c0dc825fe4e339e3f0dee81ad1609"
      }
     },
     "126835be05d04814bf71b0713e1eabd9": {
      "model_module": "@jupyter-widgets/base",
      "model_module_version": "1.2.0",
      "model_name": "LayoutModel",
      "state": {
       "width": "190px"
      }
     },
     "1f4918ea9ae64facbe3512dbd3d9d258": {
      "model_module": "@jupyter-widgets/controls",
      "model_module_version": "1.5.0",
      "model_name": "HTMLModel",
      "state": {
       "layout": "IPY_MODEL_126835be05d04814bf71b0713e1eabd9",
       "style": "IPY_MODEL_ed7a704ca1a04be9a3281ccd58801a0b",
       "value": "<h5>Job ID</h5>"
      }
     },
     "20fc841ff2384bd195b4249f016529b4": {
      "model_module": "@jupyter-widgets/controls",
      "model_module_version": "1.5.0",
      "model_name": "DescriptionStyleModel",
      "state": {
       "description_width": ""
      }
     },
     "32a327bf490c4512962719d3216718db": {
      "model_module": "@jupyter-widgets/controls",
      "model_module_version": "1.5.0",
      "model_name": "DescriptionStyleModel",
      "state": {
       "description_width": ""
      }
     },
     "3bc077e71a0b496d9a19fe77145a6a72": {
      "model_module": "@jupyter-widgets/controls",
      "model_module_version": "1.5.0",
      "model_name": "HTMLModel",
      "state": {
       "layout": "IPY_MODEL_7eecd191039e4787a8f2990828ff16bd",
       "style": "IPY_MODEL_20fc841ff2384bd195b4249f016529b4",
       "value": "<h5>Status</h5>"
      }
     },
     "5148dcb4e70d4037b2f8a58298371886": {
      "model_module": "@jupyter-widgets/controls",
      "model_module_version": "1.5.0",
      "model_name": "HTMLModel",
      "state": {
       "layout": "IPY_MODEL_f733f3ece4f34702b281d70b9fada864",
       "style": "IPY_MODEL_acaee269d59148ae8280693642798a50",
       "value": "<h5>Queue</h5>"
      }
     },
     "7eecd191039e4787a8f2990828ff16bd": {
      "model_module": "@jupyter-widgets/base",
      "model_module_version": "1.2.0",
      "model_name": "LayoutModel",
      "state": {
       "width": "95px"
      }
     },
     "7f19d9de59974efd835b8da2862a7fcd": {
      "model_module": "@jupyter-widgets/controls",
      "model_module_version": "1.5.0",
      "model_name": "GridBoxModel",
      "state": {
       "children": [
        "IPY_MODEL_0eddd48dd19d468c941f359e86af46b5"
       ],
       "layout": "IPY_MODEL_ba08f29e8ef640249e710499e2ff3407"
      }
     },
     "8e9cfa21d849471fa5dd0f4e2020795c": {
      "model_module": "@jupyter-widgets/controls",
      "model_module_version": "1.5.0",
      "model_name": "HTMLModel",
      "state": {
       "layout": "IPY_MODEL_cea43ec436eb4ee591b6c549a1e41833",
       "style": "IPY_MODEL_de583ff458b04328911d963e048cde11",
       "value": "<h5>Message</h5>"
      }
     },
     "9785b60a89c24314be4e39bd9e2a6309": {
      "model_module": "@jupyter-widgets/controls",
      "model_module_version": "1.5.0",
      "model_name": "DescriptionStyleModel",
      "state": {
       "description_width": ""
      }
     },
     "98978dfb6f3d48dd9519f183eeff5bcf": {
      "model_module": "@jupyter-widgets/controls",
      "model_module_version": "1.5.0",
      "model_name": "HTMLModel",
      "state": {
       "layout": "IPY_MODEL_ea955ff8f2584c62a43b09f702913e81",
       "style": "IPY_MODEL_9785b60a89c24314be4e39bd9e2a6309",
       "value": "<p style='font-family: IBM Plex Sans, Arial, Helvetica, sans-serif; font-size: 20px; font-weight: medium;'>Circuit Properties</p>"
      }
     },
     "ab79f5276fd24d10bbc6fa367ef734d2": {
      "model_module": "@jupyter-widgets/base",
      "model_module_version": "1.2.0",
      "model_name": "LayoutModel",
      "state": {
       "margin": "0px 0px 0px 37px",
       "width": "600px"
      }
     },
     "acaee269d59148ae8280693642798a50": {
      "model_module": "@jupyter-widgets/controls",
      "model_module_version": "1.5.0",
      "model_name": "DescriptionStyleModel",
      "state": {
       "description_width": ""
      }
     },
     "b63b874865c5419eb727e8e2711addad": {
      "model_module": "@jupyter-widgets/controls",
      "model_module_version": "1.5.0",
      "model_name": "HBoxModel",
      "state": {
       "children": [
        "IPY_MODEL_1f4918ea9ae64facbe3512dbd3d9d258",
        "IPY_MODEL_008ac13b654a40b9a468d33e9effb17f",
        "IPY_MODEL_3bc077e71a0b496d9a19fe77145a6a72",
        "IPY_MODEL_5148dcb4e70d4037b2f8a58298371886",
        "IPY_MODEL_8e9cfa21d849471fa5dd0f4e2020795c"
       ],
       "layout": "IPY_MODEL_ab79f5276fd24d10bbc6fa367ef734d2"
      }
     },
     "ba08f29e8ef640249e710499e2ff3407": {
      "model_module": "@jupyter-widgets/base",
      "model_module_version": "1.2.0",
      "model_name": "LayoutModel",
      "state": {
       "grid_template_areas": "\n                                       \". . . . right \"\n                                        ",
       "grid_template_columns": "20% 20% 20% 20% 20%",
       "width": "100%"
      }
     },
     "cea43ec436eb4ee591b6c549a1e41833": {
      "model_module": "@jupyter-widgets/base",
      "model_module_version": "1.2.0",
      "model_name": "LayoutModel",
      "state": {}
     },
     "d88c0dc825fe4e339e3f0dee81ad1609": {
      "model_module": "@jupyter-widgets/controls",
      "model_module_version": "1.5.0",
      "model_name": "ButtonStyleModel",
      "state": {}
     },
     "de583ff458b04328911d963e048cde11": {
      "model_module": "@jupyter-widgets/controls",
      "model_module_version": "1.5.0",
      "model_name": "DescriptionStyleModel",
      "state": {
       "description_width": ""
      }
     },
     "ea1aa2c09e2e4ffc9ca1627dfdacc25a": {
      "model_module": "@jupyter-widgets/base",
      "model_module_version": "1.2.0",
      "model_name": "LayoutModel",
      "state": {
       "grid_area": "right",
       "padding": "0px 0px 0px 0px",
       "width": "70px"
      }
     },
     "ea955ff8f2584c62a43b09f702913e81": {
      "model_module": "@jupyter-widgets/base",
      "model_module_version": "1.2.0",
      "model_name": "LayoutModel",
      "state": {
       "margin": "0px 0px 10px 0px"
      }
     },
     "ed7a704ca1a04be9a3281ccd58801a0b": {
      "model_module": "@jupyter-widgets/controls",
      "model_module_version": "1.5.0",
      "model_name": "DescriptionStyleModel",
      "state": {
       "description_width": ""
      }
     },
     "f733f3ece4f34702b281d70b9fada864": {
      "model_module": "@jupyter-widgets/base",
      "model_module_version": "1.2.0",
      "model_name": "LayoutModel",
      "state": {
       "width": "70px"
      }
     },
     "ffd825a2aaa5400995feeddd5ce36c58": {
      "model_module": "@jupyter-widgets/base",
      "model_module_version": "1.2.0",
      "model_name": "LayoutModel",
      "state": {
       "width": "145px"
      }
     }
    },
    "version_major": 2,
    "version_minor": 0
   }
  }
 },
 "nbformat": 4,
 "nbformat_minor": 5
}
