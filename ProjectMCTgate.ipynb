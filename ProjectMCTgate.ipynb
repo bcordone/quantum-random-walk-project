{
 "cells": [
  {
   "cell_type": "code",
   "execution_count": 1,
   "id": "87879be3-b4ff-4e70-bbc3-23037c8edbd4",
   "metadata": {},
   "outputs": [
    {
     "name": "stderr",
     "output_type": "stream",
     "text": [
      "<frozen importlib._bootstrap>:219: RuntimeWarning: scipy._lib.messagestream.MessageStream size changed, may indicate binary incompatibility. Expected 56 from C header, got 64 from PyObject\n"
     ]
    }
   ],
   "source": [
    "import numpy as np\n",
    "\n",
    "# Importing standard Qiskit libraries\n",
    "from qiskit import QuantumCircuit, transpile, Aer, IBMQ\n",
    "from qiskit.tools.jupyter import *\n",
    "from qiskit.visualization import *\n",
    "from ibm_quantum_widgets import *\n",
    "from qiskit.providers.aer import QasmSimulator\n",
    "\n",
    "# Loading your IBM Quantum account(s)\n",
    "provider = IBMQ.load_account()"
   ]
  },
  {
   "cell_type": "markdown",
   "id": "ea4eda9b-7f55-4baf-8a98-57b1c02a742d",
   "metadata": {},
   "source": [
    "# This document is the attempt for the MCT gates\n",
    "This attempt was abandomed due to the circuit depth inconsistencies and difficulty with different modes of the MCT function. This is also not adding new value to the project as these circuits had greater depth than those in the paper."
   ]
  },
  {
   "cell_type": "markdown",
   "id": "898bf50d-1b32-499f-81da-20d48d9c5223",
   "metadata": {},
   "source": [
    "### The MCT gates\n",
    "The gates indicated in the code comments in the circuit above can be replaced using the n-qubit Toffoli gate function MCT (multi-controlled-Toffoli gate). This function operates similarly to the Toffoli gate except that it can have more than 2 control qubits for a single target qubit. The function has 4 modes which are basic (2 ancilla), dirty basic ancilla (2 ancilla), advance (no ancilla), and no-ancilla. All modes are explored and the circuit depth and computing wall time examined.\n",
    "\n",
    "This is the notation for the function:\n",
    "mct(self, q_controls, q_target, q_ancilla, mode='basic')\n",
    "self (QuantumCircuit) -- The QuantumCircuit object to apply the mct gate on.\n",
    "\n",
    "q_controls (Union(QuantumRegister, list[Qubit])) -- The list of control qubits\n",
    "\n",
    "q_target (Qubit) -- The target qubit\n",
    "\n",
    "q_ancilla (Union(QuantumRegister, list[Qubit])) -- The list of ancillary qubits\n",
    "\n",
    "mode (str) -- The implementation mode to use"
   ]
  },
  {
   "cell_type": "code",
   "execution_count": null,
   "id": "ead4d2e1-5f6a-4957-b06a-892109c18603",
   "metadata": {},
   "outputs": [],
   "source": [
    "qcMCT = QuantumCircuit(7)\n",
    "qcMCT.mct([0, 1, 2, 3], 4, [5, 6], mode = \"v-chain-dirty\")\n",
    "qcMCT.draw()"
   ]
  },
  {
   "cell_type": "code",
   "execution_count": null,
   "id": "e6561fdf-8d33-4ec3-be47-17dc8846ca78",
   "metadata": {},
   "outputs": [],
   "source": [
    "qcMCT.depth()"
   ]
  },
  {
   "cell_type": "markdown",
   "id": "79458441-8262-44f9-8790-03976aac1226",
   "metadata": {},
   "source": [
    "#### This is the BLANK mode"
   ]
  },
  {
   "cell_type": "code",
   "execution_count": null,
   "id": "bf2ceefa-7672-4a18-8618-f8a3f1ca0c67",
   "metadata": {},
   "outputs": [],
   "source": [
    "## Coin and shift operator for walking on the number line with five-position states (Figure 4)\n",
    "\n",
    "qc = QuantumCircuit(8, 5)\n",
    "# label the qubits\n",
    "q0 = 0\n",
    "q1 = 1\n",
    "q2 = 2\n",
    "c0 = 3\n",
    "q3 = 4\n",
    "c1 = 5\n",
    "q4 = 6\n",
    "c = 7\n",
    "\n",
    "# set the initial states |01111>\n",
    "qc.x(q1)\n",
    "qc.x(q2)\n",
    "qc.x(q3)\n",
    "qc.x(q4)\n",
    "    \n",
    "# the start of the actual circuit\n",
    "qc.h(c)\n",
    "qc.cx(c, q0)\n",
    "qc.cx(c, q1)\n",
    "qc.cx(c, q2)\n",
    "qc.cx(c, q3)\n",
    "qc.cx(c, q4)\n",
    "\n",
    "# MCT gate replacement \n",
    "qc.mct([q0, q1, q2, q3], q4)\n",
    "qc.mct([q0, q1, q2], q3)\n",
    "#qc.mct([q0, q1, q2, q3], q4)\n",
    "\n",
    "qc.ccx(q0, q1, c0)\n",
    "qc.ccx(q0, q1, q2)\n",
    "qc.cx(q0, q1)\n",
    "qc.x(q0)\n",
    "qc.cx(c, q0)\n",
    "qc.cx(c, q1)\n",
    "qc.cx(c, q2)\n",
    "qc.cx(c, q3)\n",
    "qc.cx(c, q4)\n",
    "\n",
    "#qc.measure([q0, q1, q2, q3, q4], [0, 1, 2, 3, 4])\n",
    "\n",
    "# diagram of one shift operator\n",
    "qc.draw('mpl', initial_state = True)"
   ]
  },
  {
   "cell_type": "code",
   "execution_count": null,
   "id": "fec21572-d2f7-496d-a892-662afe762cc0",
   "metadata": {},
   "outputs": [],
   "source": [
    "qc.depth()"
   ]
  },
  {
   "cell_type": "code",
   "execution_count": null,
   "id": "9c48eb3b-e765-4ff4-be2b-8d51584be49f",
   "metadata": {},
   "outputs": [],
   "source": [
    "# apply the 13 steps used in the paper and measure the output\n",
    "qc = QuantumCircuit(8, 5)\n",
    "# label the qubits\n",
    "q0 = 0\n",
    "q1 = 1\n",
    "q2 = 2\n",
    "c0 = 3\n",
    "q3 = 4\n",
    "c1 = 5\n",
    "q4 = 6\n",
    "c = 7\n",
    "\n",
    "# set the initial states |01111>\n",
    "qc.x(q1)\n",
    "qc.x(q2)\n",
    "qc.x(q3)\n",
    "qc.x(q4)\n",
    "    \n",
    "# the start of the actual circuit\n",
    "for i in range(13):\n",
    "    qc.h(c)\n",
    "    qc.cx(c, q0)\n",
    "    qc.cx(c, q1)\n",
    "    qc.cx(c, q2)\n",
    "    qc.cx(c, q3)\n",
    "    qc.cx(c, q4)\n",
    "\n",
    "# this part can be replaced by the MCT gate\n",
    "    qc.mct([q0, q1, q2, q3], q4)\n",
    "    qc.mct([q0, q1, q2], q3)\n",
    "# end of the part that can be replaced by the MCT gate\n",
    "\n",
    "    qc.ccx(q0, q1, c0)\n",
    "    qc.ccx(q0, q1, q2)\n",
    "    qc.cx(q0, q1)\n",
    "    qc.x(q0)\n",
    "    qc.cx(c, q0)\n",
    "    qc.cx(c, q1)\n",
    "    qc.cx(c, q2)\n",
    "    qc.cx(c, q3)\n",
    "    qc.cx(c, q4)\n",
    "\n",
    "qc.measure([q0, q1, q2, q3, q4], [0, 1, 2, 3, 4])"
   ]
  },
  {
   "cell_type": "code",
   "execution_count": null,
   "id": "973f3f11-bcb6-4126-9fef-7143673eecc5",
   "metadata": {},
   "outputs": [],
   "source": [
    "# get the start time\n",
    "st = time.time()\n",
    "\n",
    "simulator = Aer.get_backend('aer_simulator')\n",
    "\n",
    "qc = transpile(qc, simulator)\n",
    "\n",
    "# Run and get counts\n",
    "# set measurement repition to 100 million\n",
    "result = simulator.run(qc, shots = 100^6).result()\n",
    "counts = result.get_counts(qc)\n",
    "\n",
    "# get the end time\n",
    "et = time.time()\n",
    "\n",
    "plot_histogram(counts, title='Quantum Random Walk Counts')"
   ]
  },
  {
   "cell_type": "code",
   "execution_count": null,
   "id": "9b23e248-9fcf-480f-acf1-484917e1c01f",
   "metadata": {},
   "outputs": [],
   "source": [
    "# apply the 13 steps used in the paper and measure the output\n",
    "# this is a different mode of the MCT gate\n",
    "qc = QuantumCircuit(8, 5)\n",
    "# label the qubits\n",
    "q0 = 0\n",
    "q1 = 1\n",
    "q2 = 2\n",
    "c0 = 3\n",
    "q3 = 4\n",
    "c1 = 5\n",
    "q4 = 6\n",
    "c = 7\n",
    "\n",
    "# set the initial states |01111>\n",
    "qc.x(q1)\n",
    "qc.x(q2)\n",
    "qc.x(q3)\n",
    "qc.x(q4)\n",
    "    \n",
    "# the start of the actual circuit\n",
    "for i in range(13):\n",
    "    qc.h(c)\n",
    "    qc.cx(c, q0)\n",
    "    qc.cx(c, q1)\n",
    "    qc.cx(c, q2)\n",
    "    qc.cx(c, q3)\n",
    "    qc.cx(c, q4)\n",
    "\n",
    "# this part can be replaced by the MCT gate\n",
    "    qc.mct([q0, q1, q2, q3], q4, [c0, c1], \"v-chain-dirty\")\n",
    "    qc.mct([q0, q1, q2], q3, [c0, c1], \"v-chain-dirty\")\n",
    "# end of the part that can be replaced by the MCT gate\n",
    "\n",
    "    qc.ccx(q0, q1, c0)\n",
    "    qc.ccx(q0, q1, q2)\n",
    "    qc.cx(q0, q1)\n",
    "    qc.x(q0)\n",
    "    qc.cx(c, q0)\n",
    "    qc.cx(c, q1)\n",
    "    qc.cx(c, q2)\n",
    "    qc.cx(c, q3)\n",
    "    qc.cx(c, q4)\n",
    "\n",
    "qc.measure([q0, q1, q2, q3, q4], [0, 1, 2, 3, 4])"
   ]
  },
  {
   "cell_type": "code",
   "execution_count": null,
   "id": "956e22d9-1e0d-44f4-8158-fab31f6f2aa5",
   "metadata": {},
   "outputs": [],
   "source": [
    "# get the start time\n",
    "st = time.time()\n",
    "\n",
    "simulator = Aer.get_backend('aer_simulator')\n",
    "\n",
    "qc = transpile(qc, simulator)\n",
    "\n",
    "# Run and get counts\n",
    "# set measurement repition to 100 million\n",
    "result = simulator.run(qc, shots = 100^6).result()\n",
    "counts = result.get_counts(qc)\n",
    "\n",
    "# get the end time\n",
    "et = time.time()\n",
    "\n",
    "plot_histogram(counts, title='Quantum Random Walk Counts')"
   ]
  },
  {
   "cell_type": "markdown",
   "id": "4777bb3d-f668-4979-b302-15fd25976f9e",
   "metadata": {},
   "source": [
    "Leave this here for now because I can't figure out the circuit depth and different modes and these methods yield the same results and are not faster."
   ]
  }
 ],
 "metadata": {
  "kernelspec": {
   "display_name": "Qiskit v0.35.0 (ipykernel)",
   "language": "python",
   "name": "python3"
  },
  "language_info": {
   "codemirror_mode": {
    "name": "ipython",
    "version": 3
   },
   "file_extension": ".py",
   "mimetype": "text/x-python",
   "name": "python",
   "nbconvert_exporter": "python",
   "pygments_lexer": "ipython3",
   "version": "3.8.13"
  },
  "widgets": {
   "application/vnd.jupyter.widget-state+json": {
    "state": {
     "1a893a42d48e4b6080fbd29dd40c5508": {
      "model_module": "@jupyter-widgets/base",
      "model_module_version": "1.2.0",
      "model_name": "LayoutModel",
      "state": {
       "grid_area": "right",
       "padding": "0px 0px 0px 0px",
       "width": "70px"
      }
     },
     "23326c4e1e9e47129d6043755e2c09f1": {
      "model_module": "@jupyter-widgets/controls",
      "model_module_version": "1.5.0",
      "model_name": "HBoxModel",
      "state": {
       "children": [
        "IPY_MODEL_b3a08c008748497ba95127a2fb4eccc9",
        "IPY_MODEL_e524381699b74f9ca0d457cbcfbf6b9b",
        "IPY_MODEL_9edc90743d5948b3a7e1cdfaac9b6f71",
        "IPY_MODEL_d8f65f659b1047a08d034f8462ffa0f5",
        "IPY_MODEL_94e40f0882ae4ef1ba4421ccdaf8b9de"
       ],
       "layout": "IPY_MODEL_55e42e9f7f434a0d862845debb129ef3"
      }
     },
     "4ed75d7f2a3a41ffb886b6c80012cb08": {
      "model_module": "@jupyter-widgets/base",
      "model_module_version": "1.2.0",
      "model_name": "LayoutModel",
      "state": {
       "width": "145px"
      }
     },
     "55e42e9f7f434a0d862845debb129ef3": {
      "model_module": "@jupyter-widgets/base",
      "model_module_version": "1.2.0",
      "model_name": "LayoutModel",
      "state": {
       "margin": "0px 0px 0px 37px",
       "width": "600px"
      }
     },
     "60c5266577f74d4cbbaf544ab0a18085": {
      "model_module": "@jupyter-widgets/base",
      "model_module_version": "1.2.0",
      "model_name": "LayoutModel",
      "state": {
       "width": "95px"
      }
     },
     "677f8d327bfb4bee9e92ecada10b77e1": {
      "model_module": "@jupyter-widgets/controls",
      "model_module_version": "1.5.0",
      "model_name": "DescriptionStyleModel",
      "state": {
       "description_width": ""
      }
     },
     "67956a6d9aa14717ae9fe3a449391a43": {
      "model_module": "@jupyter-widgets/base",
      "model_module_version": "1.2.0",
      "model_name": "LayoutModel",
      "state": {
       "width": "190px"
      }
     },
     "70b80ae2619245288615b1cd42b12b8e": {
      "model_module": "@jupyter-widgets/controls",
      "model_module_version": "1.5.0",
      "model_name": "HTMLModel",
      "state": {
       "layout": "IPY_MODEL_dcb2b073720a46b3a30d79467bb3fcc9",
       "style": "IPY_MODEL_b7e2125cc4f24554af126435ac8d17e4",
       "value": "<p style='font-family: IBM Plex Sans, Arial, Helvetica, sans-serif; font-size: 20px; font-weight: medium;'>Circuit Properties</p>"
      }
     },
     "7cfde903ab1c420cb7e17a211f36a3fb": {
      "model_module": "@jupyter-widgets/controls",
      "model_module_version": "1.5.0",
      "model_name": "GridBoxModel",
      "state": {
       "children": [
        "IPY_MODEL_866307d01e2e4f849ee26e81366f9df4"
       ],
       "layout": "IPY_MODEL_efc7d051861d4b35b4c3e9807bc52b8c"
      }
     },
     "808fd106e679447fbd353b872e0165e6": {
      "model_module": "@jupyter-widgets/controls",
      "model_module_version": "1.5.0",
      "model_name": "DescriptionStyleModel",
      "state": {
       "description_width": ""
      }
     },
     "8639b9bf0a7e49459db6c7fb95b6f767": {
      "model_module": "@jupyter-widgets/controls",
      "model_module_version": "1.5.0",
      "model_name": "DescriptionStyleModel",
      "state": {
       "description_width": ""
      }
     },
     "866307d01e2e4f849ee26e81366f9df4": {
      "model_module": "@jupyter-widgets/controls",
      "model_module_version": "1.5.0",
      "model_name": "ButtonModel",
      "state": {
       "button_style": "primary",
       "description": "Clear",
       "layout": "IPY_MODEL_1a893a42d48e4b6080fbd29dd40c5508",
       "style": "IPY_MODEL_d63510ebfeff47c7be238ca8b64c072c"
      }
     },
     "94e40f0882ae4ef1ba4421ccdaf8b9de": {
      "model_module": "@jupyter-widgets/controls",
      "model_module_version": "1.5.0",
      "model_name": "HTMLModel",
      "state": {
       "layout": "IPY_MODEL_a61e24d4db2143f9becfe10fca5ca431",
       "style": "IPY_MODEL_8639b9bf0a7e49459db6c7fb95b6f767",
       "value": "<h5>Message</h5>"
      }
     },
     "9edc90743d5948b3a7e1cdfaac9b6f71": {
      "model_module": "@jupyter-widgets/controls",
      "model_module_version": "1.5.0",
      "model_name": "HTMLModel",
      "state": {
       "layout": "IPY_MODEL_60c5266577f74d4cbbaf544ab0a18085",
       "style": "IPY_MODEL_808fd106e679447fbd353b872e0165e6",
       "value": "<h5>Status</h5>"
      }
     },
     "a61e24d4db2143f9becfe10fca5ca431": {
      "model_module": "@jupyter-widgets/base",
      "model_module_version": "1.2.0",
      "model_name": "LayoutModel",
      "state": {}
     },
     "b3a08c008748497ba95127a2fb4eccc9": {
      "model_module": "@jupyter-widgets/controls",
      "model_module_version": "1.5.0",
      "model_name": "HTMLModel",
      "state": {
       "layout": "IPY_MODEL_67956a6d9aa14717ae9fe3a449391a43",
       "style": "IPY_MODEL_677f8d327bfb4bee9e92ecada10b77e1",
       "value": "<h5>Job ID</h5>"
      }
     },
     "b7e2125cc4f24554af126435ac8d17e4": {
      "model_module": "@jupyter-widgets/controls",
      "model_module_version": "1.5.0",
      "model_name": "DescriptionStyleModel",
      "state": {
       "description_width": ""
      }
     },
     "d0129f3dfc8a4069b8d4e8bed2f7a85c": {
      "model_module": "@jupyter-widgets/controls",
      "model_module_version": "1.5.0",
      "model_name": "DescriptionStyleModel",
      "state": {
       "description_width": ""
      }
     },
     "d63510ebfeff47c7be238ca8b64c072c": {
      "model_module": "@jupyter-widgets/controls",
      "model_module_version": "1.5.0",
      "model_name": "ButtonStyleModel",
      "state": {}
     },
     "d8f65f659b1047a08d034f8462ffa0f5": {
      "model_module": "@jupyter-widgets/controls",
      "model_module_version": "1.5.0",
      "model_name": "HTMLModel",
      "state": {
       "layout": "IPY_MODEL_ed57fdee491a43bea98b00ce918c0e20",
       "style": "IPY_MODEL_d0129f3dfc8a4069b8d4e8bed2f7a85c",
       "value": "<h5>Queue</h5>"
      }
     },
     "dcb2b073720a46b3a30d79467bb3fcc9": {
      "model_module": "@jupyter-widgets/base",
      "model_module_version": "1.2.0",
      "model_name": "LayoutModel",
      "state": {
       "margin": "0px 0px 10px 0px"
      }
     },
     "e445586a8ee44393a32b23d463bc08ee": {
      "model_module": "@jupyter-widgets/controls",
      "model_module_version": "1.5.0",
      "model_name": "DescriptionStyleModel",
      "state": {
       "description_width": ""
      }
     },
     "e524381699b74f9ca0d457cbcfbf6b9b": {
      "model_module": "@jupyter-widgets/controls",
      "model_module_version": "1.5.0",
      "model_name": "HTMLModel",
      "state": {
       "layout": "IPY_MODEL_4ed75d7f2a3a41ffb886b6c80012cb08",
       "style": "IPY_MODEL_e445586a8ee44393a32b23d463bc08ee",
       "value": "<h5>Backend</h5>"
      }
     },
     "ed57fdee491a43bea98b00ce918c0e20": {
      "model_module": "@jupyter-widgets/base",
      "model_module_version": "1.2.0",
      "model_name": "LayoutModel",
      "state": {
       "width": "70px"
      }
     },
     "efc7d051861d4b35b4c3e9807bc52b8c": {
      "model_module": "@jupyter-widgets/base",
      "model_module_version": "1.2.0",
      "model_name": "LayoutModel",
      "state": {
       "grid_template_areas": "\n                                       \". . . . right \"\n                                        ",
       "grid_template_columns": "20% 20% 20% 20% 20%",
       "width": "100%"
      }
     }
    },
    "version_major": 2,
    "version_minor": 0
   }
  }
 },
 "nbformat": 4,
 "nbformat_minor": 5
}
